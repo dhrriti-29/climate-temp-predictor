{
 "cells": [
  {
   "cell_type": "code",
   "execution_count": 11,
   "id": "f9683fcf-0a05-442d-9386-b7cd5c35129b",
   "metadata": {},
   "outputs": [],
   "source": [
    "df = pd.read_csv(r\"C:\\Users\\Admin\\Desktop\\Project-1\\Climate_dataset.csv\")"
   ]
  },
  {
   "cell_type": "code",
   "execution_count": 13,
   "id": "657b6e51-f8da-4112-9c62-104c71020357",
   "metadata": {},
   "outputs": [
    {
     "name": "stdout",
     "output_type": "stream",
     "text": [
      "                          R2      RMSE\n",
      "Linear Regression -32.985238  0.263950\n",
      "Random Forest     -58.112579  0.348110\n",
      "XGBoost           -76.362004  0.398236\n",
      "Best model: Linear Regression\n"
     ]
    },
    {
     "name": "stderr",
     "output_type": "stream",
     "text": [
      "C:\\Users\\Admin\\AppData\\Local\\Temp\\ipykernel_6060\\3248336818.py:88: UserWarning: FigureCanvasAgg is non-interactive, and thus cannot be shown\n",
      "  plt.show()\n"
     ]
    }
   ],
   "source": [
    "import numpy as np\n",
    "import pandas as pd\n",
    "from sklearn.model_selection import train_test_split\n",
    "from sklearn.preprocessing  import StandardScaler\n",
    "from sklearn.linear_model   import LinearRegression\n",
    "from sklearn.ensemble       import RandomForestRegressor\n",
    "import xgboost               as xgb\n",
    "from sklearn.metrics        import mean_squared_error, r2_score\n",
    "\n",
    "# 1) Define feature columns (drop Year entirely)\n",
    "feature_cols = [c for c in df.columns if c not in ('Year','Temperature_C')]\n",
    "\n",
    "# 2) Split X/y\n",
    "X = df[feature_cols]\n",
    "y = df['Temperature_C']\n",
    "\n",
    "X_train, X_temp, y_train, y_temp = train_test_split(\n",
    "    X, y, test_size=0.3, random_state=42\n",
    ")\n",
    "X_val, X_test, y_val, y_test = train_test_split(\n",
    "    X_temp, y_temp, test_size=0.5, random_state=42\n",
    ")\n",
    "\n",
    "# 3) Scale\n",
    "scaler = StandardScaler()\n",
    "X_train_scaled = scaler.fit_transform(X_train)\n",
    "X_val_scaled   = scaler.transform(X_val)\n",
    "\n",
    "# 4) Train your models again\n",
    "models = {\n",
    "    'Linear Regression': LinearRegression(),\n",
    "    'Random Forest'    : RandomForestRegressor(n_estimators=100, random_state=42),\n",
    "    'XGBoost'          : xgb.XGBRegressor(objective='reg:squarederror', random_state=42)\n",
    "}\n",
    "\n",
    "results = {}\n",
    "for name, mdl in models.items():\n",
    "    mdl.fit(X_train_scaled, y_train)\n",
    "    pred_val = mdl.predict(X_val_scaled)\n",
    "    mse = mean_squared_error(y_val, pred_val)\n",
    "    results[name] = {'R2': r2_score(y_val, pred_val), 'RMSE': np.sqrt(mse)}\n",
    "\n",
    "results_df = pd.DataFrame(results).T\n",
    "print(results_df)\n",
    "\n",
    "# Pick the best\n",
    "best_name  = results_df['R2'].idxmax()\n",
    "best_model = models[best_name]\n",
    "print(\"Best model:\", best_name)\n",
    "\n",
    "\n",
    "# 5) Scenario Analysis (no Year)\n",
    "horizon = 10\n",
    "years   = np.arange(df['Year'].max()+1, df['Year'].max()+1+horizon)\n",
    "\n",
    "# last known physical drivers\n",
    "last = df[feature_cols].iloc[-1]\n",
    "\n",
    "# define CO₂ scenarios\n",
    "scenarios = {\n",
    "    'Flat CO₂'    : np.zeros(horizon),\n",
    "    '+2 ppm/year' : np.full(horizon, 2),\n",
    "    '+5 ppm/year' : np.full(horizon, 5),\n",
    "}\n",
    "\n",
    "projections = {}\n",
    "for name, delta in scenarios.items():\n",
    "    co2_vals = last['CO2_ppm'] + np.cumsum(delta)\n",
    "    df_s     = pd.DataFrame({col: last[col] for col in feature_cols}, index=years)\n",
    "    df_s['CO2_ppm'] = co2_vals\n",
    "    X_s            = scaler.transform(df_s)           # now exactly 7 features\n",
    "    projections[name] = best_model.predict(X_s)\n",
    "\n",
    "# 6) Plot\n",
    "import matplotlib.pyplot as plt\n",
    "import seaborn as sns\n",
    "\n",
    "plt.figure(figsize=(10,6))\n",
    "sns.lineplot(x=df['Year'], y=df['Temperature_C'], label='Historical', color='black')\n",
    "for name, pred in projections.items():\n",
    "    sns.lineplot(x=years, y=pred, label=name, linestyle='--')\n",
    "\n",
    "plt.title(\"Temperature Projections Under Different CO₂ Scenarios\")\n",
    "plt.xlabel(\"Year\")\n",
    "plt.ylabel(\"Temperature (°C)\")\n",
    "plt.legend()\n",
    "plt.grid(True)\n",
    "plt.show()\n"
   ]
  },
  {
   "cell_type": "code",
   "execution_count": 14,
   "id": "5799cc5e-1729-4818-a248-74d907559c6f",
   "metadata": {},
   "outputs": [
    {
     "data": {
      "text/plain": [
       "['scaler.pkl']"
      ]
     },
     "execution_count": 14,
     "metadata": {},
     "output_type": "execute_result"
    }
   ],
   "source": [
    "import joblib\n",
    "\n",
    "# Save model and scaler to disk\n",
    "joblib.dump(best_model, 'best_model.pkl')\n",
    "joblib.dump(scaler, 'scaler.pkl')\n"
   ]
  },
  {
   "cell_type": "code",
   "execution_count": 15,
   "id": "e09963d2-b20c-405d-93af-10b0dffb36e6",
   "metadata": {},
   "outputs": [
    {
     "name": "stderr",
     "output_type": "stream",
     "text": [
      "2025-04-22 22:30:23.091 \n",
      "  \u001b[33m\u001b[1mWarning:\u001b[0m to view this Streamlit app on a browser, run it with the following\n",
      "  command:\n",
      "\n",
      "    streamlit run C:\\Users\\Admin\\anaconda3\\Lib\\site-packages\\ipykernel_launcher.py [ARGUMENTS]\n",
      "2025-04-22 22:30:23.091 Session state does not function when running a script without `streamlit run`\n"
     ]
    }
   ],
   "source": [
    "import streamlit as st\n",
    "import numpy as np\n",
    "import pandas as pd\n",
    "import joblib\n",
    "\n",
    "# Load model and scaler\n",
    "model = joblib.load('best_model.pkl')\n",
    "scaler = joblib.load('scaler.pkl')\n",
    "\n",
    "# Streamlit UI\n",
    "st.title(\"🌍 Climate Temperature Prediction App\")\n",
    "\n",
    "st.markdown(\"\"\"\n",
    "This app predicts the **average temperature (°C)** based on climate-related variables such as CO₂ levels, sea levels, and extreme weather events.\n",
    "\"\"\")\n",
    "\n",
    "# Define features used in the model (must match training!)\n",
    "feature_cols = ['CO2_ppm', 'Sea_Level_mm', 'Extreme_Weather_Events', 'Temp_Anomaly_C', 'Sea_Level_Rise_mm']\n",
    "\n",
    "# Create input fields\n",
    "inputs = {}\n",
    "for col in feature_cols:\n",
    "    inputs[col] = st.number_input(f\"Enter value for {col}\", step=0.1)\n",
    "\n",
    "# Predict on button click\n",
    "if st.button(\"Predict Temperature\"):\n",
    "    input_df = pd.DataFrame([inputs])\n",
    "    scaled_input = scaler.transform(input_df)\n",
    "    prediction = model.predict(scaled_input)[0]\n",
    "    st.success(f\"🌡️ Predicted Average Temperature: {prediction:.2f} °C\")\n"
   ]
  },
  {
   "cell_type": "code",
   "execution_count": 19,
   "id": "312b600d-b263-414a-85d5-683e92f6bcea",
   "metadata": {},
   "outputs": [
    {
     "name": "stdout",
     "output_type": "stream",
     "text": [
      "✅ Saved best_model.pkl and scaler.pkl\n"
     ]
    }
   ],
   "source": [
    "import joblib\n",
    "\n",
    "joblib.dump(best_model, 'best_model.pkl')\n",
    "joblib.dump(scaler, 'scaler.pkl')\n",
    "print(\"✅ Saved best_model.pkl and scaler.pkl\")\n"
   ]
  },
  {
   "cell_type": "code",
   "execution_count": 21,
   "id": "eb42a369-375a-492e-b204-03280dd52530",
   "metadata": {},
   "outputs": [
    {
     "name": "stdout",
     "output_type": "stream",
     "text": [
      "C:\\Users\\Admin\n",
      "['.anaconda', '.conda', '.condarc', '.continuum', '.ipynb_checkpoints', '.ipython', '.jupyter', '.matplotlib', 'anaconda3', 'anaconda_projects', 'AppData', 'Application Data', 'best_model.pkl', 'Contacts', 'Cookies', 'Desktop', 'Documents', 'Downloads', 'Favorites', 'IntelGraphicsProfiles', 'Links', 'Local Settings', 'Music', 'My Documents', 'NetHood', 'NTUSER.DAT', 'ntuser.dat.LOG1', 'ntuser.dat.LOG2', 'NTUSER.DAT{bb800a44-1f8f-11f0-9846-c39eac4639d1}.TM.blf', 'NTUSER.DAT{bb800a44-1f8f-11f0-9846-c39eac4639d1}.TMContainer00000000000000000001.regtrans-ms', 'NTUSER.DAT{bb800a44-1f8f-11f0-9846-c39eac4639d1}.TMContainer00000000000000000002.regtrans-ms', 'ntuser.ini', 'OneDrive', 'Pictures', 'PrintHood', 'Project-1.ipynb', 'Recent', 'Saved Games', 'scaler.pkl', 'Searches', 'SendTo', 'Start Menu', 'Templates', 'Untitled.ipynb', 'Videos']\n"
     ]
    }
   ],
   "source": [
    "import os\n",
    "print(os.getcwd())\n",
    "print(os.listdir())\n"
   ]
  },
  {
   "cell_type": "code",
   "execution_count": null,
   "id": "c88c0b7d-db4e-4664-b73c-8c60df68c30c",
   "metadata": {},
   "outputs": [],
   "source": []
  },
  {
   "cell_type": "code",
   "execution_count": null,
   "id": "9310f216-146a-4a03-88dc-a85cd66b2c72",
   "metadata": {},
   "outputs": [],
   "source": []
  }
 ],
 "metadata": {
  "kernelspec": {
   "display_name": "Python [conda env:base] *",
   "language": "python",
   "name": "conda-base-py"
  },
  "language_info": {
   "codemirror_mode": {
    "name": "ipython",
    "version": 3
   },
   "file_extension": ".py",
   "mimetype": "text/x-python",
   "name": "python",
   "nbconvert_exporter": "python",
   "pygments_lexer": "ipython3",
   "version": "3.12.7"
  }
 },
 "nbformat": 4,
 "nbformat_minor": 5
}
