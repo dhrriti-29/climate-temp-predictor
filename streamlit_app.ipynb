{
 "cells": [
  {
   "cell_type": "code",
   "execution_count": 1,
   "id": "f8e6987c-c8a0-4f34-86dd-8ba2fe6f932a",
   "metadata": {},
   "outputs": [
    {
     "name": "stderr",
     "output_type": "stream",
     "text": [
      "2025-04-25 10:40:51.466 \n",
      "  \u001b[33m\u001b[1mWarning:\u001b[0m to view this Streamlit app on a browser, run it with the following\n",
      "  command:\n",
      "\n",
      "    streamlit run C:\\Users\\Admin\\anaconda3\\Lib\\site-packages\\ipykernel_launcher.py [ARGUMENTS]\n",
      "2025-04-25 10:40:51.475 Session state does not function when running a script without `streamlit run`\n",
      "C:\\Users\\Admin\\anaconda3\\Lib\\site-packages\\sklearn\\base.py:493: UserWarning: X does not have valid feature names, but StandardScaler was fitted with feature names\n",
      "  warnings.warn(\n"
     ]
    }
   ],
   "source": [
    "import streamlit as st\n",
    "import numpy as np\n",
    "import joblib\n",
    "\n",
    "# Load model and scaler\n",
    "model = joblib.load(\"best_model.pkl\")\n",
    "scaler = joblib.load(\"scaler.pkl\")\n",
    "\n",
    "st.set_page_config(page_title=\"Climate Prediction\", layout=\"centered\")\n",
    "st.title(\"🌍 Climate Change Temperature Prediction\")\n",
    "\n",
    "st.markdown(\"Enter values for the following 7 features to predict the temperature anomaly:\")\n",
    "\n",
    "# Real feature names from your dataset\n",
    "co2 = st.number_input(\"CO2 (ppm)\", value=400.0)\n",
    "ch4 = st.number_input(\"CH4 (ppb)\", value=1800.0)\n",
    "n2o = st.number_input(\"N2O (ppb)\", value=320.0)\n",
    "solar = st.number_input(\"Solar Radiation (W/m²)\", value=1361.0)\n",
    "deforestation = st.number_input(\"Deforestation Rate (%)\", value=1.0)\n",
    "ocean = st.number_input(\"Ocean Current Index\", value=0.0)\n",
    "ice = st.number_input(\"Ice Sheet Mass (Gt)\", value=-200.0)\n",
    "\n",
    "# Prepare input for prediction\n",
    "features = np.array([[co2, ch4, n2o, solar, deforestation, ocean, ice]])\n",
    "scaled_features = scaler.transform(features)\n",
    "\n",
    "# Predict and display result\n",
    "if st.button(\"Predict Temperature Anomaly\"):\n",
    "    prediction = model.predict(scaled_features)\n",
    "    st.success(f\"🌡️ Predicted Temperature Anomaly: {prediction[0]:.2f} °C\")\n"
   ]
  },
  {
   "cell_type": "code",
   "execution_count": null,
   "id": "b793b38a-8074-4bee-97f2-f4b07bf29b90",
   "metadata": {},
   "outputs": [],
   "source": []
  }
 ],
 "metadata": {
  "kernelspec": {
   "display_name": "Python [conda env:base] *",
   "language": "python",
   "name": "conda-base-py"
  },
  "language_info": {
   "codemirror_mode": {
    "name": "ipython",
    "version": 3
   },
   "file_extension": ".py",
   "mimetype": "text/x-python",
   "name": "python",
   "nbconvert_exporter": "python",
   "pygments_lexer": "ipython3",
   "version": "3.12.7"
  }
 },
 "nbformat": 4,
 "nbformat_minor": 5
}
